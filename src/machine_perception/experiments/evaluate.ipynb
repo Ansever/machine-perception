{
 "cells": [
  {
   "cell_type": "code",
   "execution_count": 2,
   "id": "a2181ed3",
   "metadata": {},
   "outputs": [],
   "source": [
    "from pathlib import Path\n",
    "import os\n",
    "from PIL import Image\n",
    "import numpy as np"
   ]
  },
  {
   "cell_type": "code",
   "execution_count": null,
   "id": "56c97b25",
   "metadata": {},
   "outputs": [],
   "source": [
    "def read_mask(path: str | Path):\n",
    "    mask_pil = Image.open(path)\n",
    "    mask = np.array(mask_pil, dtype=np.uint8)\n",
    "    return mask\n",
    "\n",
    "\n",
    "def compute_metrics(\n",
    "    true_mask_paths: list[str | Path], pred_mask_paths: list[str | Path]\n",
    "):\n",
    "    assert len(true_mask_paths) == len(pred_mask_paths)\n",
    "    for true_mask_path, pred_mask_path in zip(true_mask_paths, pred_mask_paths):\n",
    "        true_mask = read_mask(true_mask_path)\n",
    "        pred_mask = read_mask(pred_mask_path)\n",
    "        # TODO\n",
    "\n",
    "\n",
    "def evaluate_predictions(annot_true_dir: str | Path, annot_pred_dir: str | Path):\n",
    "    annot_true_dir = Path(annot_true_dir)\n",
    "    annot_pred_dir = Path(annot_pred_dir)\n",
    "    for video_id in map(lambda x: x.stem, annot_pred_dir.glob(\"*\")):\n",
    "        annot_true_dir / video_id"
   ]
  }
 ],
 "metadata": {
  "kernelspec": {
   "display_name": "machineperc",
   "language": "python",
   "name": "python3"
  },
  "language_info": {
   "codemirror_mode": {
    "name": "ipython",
    "version": 3
   },
   "file_extension": ".py",
   "mimetype": "text/x-python",
   "name": "python",
   "nbconvert_exporter": "python",
   "pygments_lexer": "ipython3",
   "version": "3.12.10"
  }
 },
 "nbformat": 4,
 "nbformat_minor": 5
}
