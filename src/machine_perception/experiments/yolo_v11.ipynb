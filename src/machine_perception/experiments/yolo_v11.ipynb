{
 "cells": [
  {
   "cell_type": "code",
   "execution_count": 1,
   "id": "1036e0e2",
   "metadata": {},
   "outputs": [],
   "source": [
    "from machine_perception.datasets.MOSE_train_dataset import MOSE_Train\n",
    "from torch.utils.data import DataLoader\n",
    "from pathlib import Path\n",
    "\n",
    "\n",
    "BASE_DIR = Path().resolve().parents[2] / \"data\"\n",
    "TRAIN_DIR = BASE_DIR / \"train\""
   ]
  },
  {
   "cell_type": "code",
   "execution_count": 2,
   "id": "3be7f5c2",
   "metadata": {},
   "outputs": [
    {
     "name": "stdout",
     "output_type": "stream",
     "text": [
      "Video Num: 1205 X 1\n"
     ]
    }
   ],
   "source": [
    "mose_dataset = MOSE_Train(\n",
    "    root=TRAIN_DIR,\n",
    "    meta_file=\"meta_train_split.json\"\n",
    ")"
   ]
  },
  {
   "cell_type": "code",
   "execution_count": 3,
   "id": "9af908b6",
   "metadata": {},
   "outputs": [],
   "source": [
    "mose_dataset_loader = DataLoader(\n",
    "    dataset=mose_dataset,\n",
    "    batch_size=1,\n",
    "    shuffle=True,\n",
    "    num_workers=4,\n",
    "    multiprocessing_context=\"forkserver\"\n",
    ")"
   ]
  },
  {
   "cell_type": "code",
   "execution_count": 4,
   "id": "ce0ae630",
   "metadata": {},
   "outputs": [],
   "source": [
    "sample = next(iter(mose_dataset_loader))"
   ]
  },
  {
   "cell_type": "code",
   "execution_count": 5,
   "id": "82a47a24",
   "metadata": {},
   "outputs": [
    {
     "data": {
      "text/plain": [
       "dict_keys(['ref_img', 'prev_img', 'curr_img', 'ref_label', 'prev_label', 'curr_label', 'meta'])"
      ]
     },
     "execution_count": 5,
     "metadata": {},
     "output_type": "execute_result"
    }
   ],
   "source": [
    "sample.keys()"
   ]
  },
  {
   "cell_type": "code",
   "execution_count": 6,
   "id": "d45d1227",
   "metadata": {},
   "outputs": [
    {
     "data": {
      "text/plain": [
       "array([0, 1], dtype=uint8)"
      ]
     },
     "execution_count": 6,
     "metadata": {},
     "output_type": "execute_result"
    }
   ],
   "source": [
    "import numpy as np\n",
    "np.unique(np.array(sample[\"curr_label\"]))"
   ]
  }
 ],
 "metadata": {
  "kernelspec": {
   "display_name": "mp",
   "language": "python",
   "name": "python3"
  },
  "language_info": {
   "codemirror_mode": {
    "name": "ipython",
    "version": 3
   },
   "file_extension": ".py",
   "mimetype": "text/x-python",
   "name": "python",
   "nbconvert_exporter": "python",
   "pygments_lexer": "ipython3",
   "version": "3.11.11"
  }
 },
 "nbformat": 4,
 "nbformat_minor": 5
}
